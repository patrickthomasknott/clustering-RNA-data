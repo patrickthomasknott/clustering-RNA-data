{
 "cells": [
  {
   "cell_type": "code",
   "execution_count": 1,
   "metadata": {
    "ExecuteTime": {
     "end_time": "2019-10-25T07:58:29.604456Z",
     "start_time": "2019-10-25T07:58:29.601319Z"
    }
   },
   "outputs": [],
   "source": [
    "# Folder holding data, also used for output\n",
    "data_loc = '/Users/pk/Data/'"
   ]
  },
  {
   "cell_type": "code",
   "execution_count": 2,
   "metadata": {
    "ExecuteTime": {
     "end_time": "2019-10-25T07:58:33.382929Z",
     "start_time": "2019-10-25T07:58:29.608764Z"
    }
   },
   "outputs": [
    {
     "name": "stderr",
     "output_type": "stream",
     "text": [
      "Using TensorFlow backend.\n"
     ]
    }
   ],
   "source": [
    "import numpy as np\n",
    "import keras\n",
    "from keras.datasets import mnist\n",
    "from keras.models import Sequential, Model\n",
    "from keras.layers import Dense, Input, Dropout\n",
    "from keras import optimizers\n",
    "from keras.optimizers import Adam\n",
    "import scanpy as sc\n",
    "import pickle\n"
   ]
  },
  {
   "cell_type": "code",
   "execution_count": 3,
   "metadata": {
    "ExecuteTime": {
     "end_time": "2019-10-25T07:58:45.849374Z",
     "start_time": "2019-10-25T07:58:33.385323Z"
    }
   },
   "outputs": [],
   "source": [
    "adata = sc.read(data_loc + 'adata_Luecken_compressed.h5ad')"
   ]
  },
  {
   "cell_type": "code",
   "execution_count": 4,
   "metadata": {
    "ExecuteTime": {
     "end_time": "2019-10-25T07:58:45.855421Z",
     "start_time": "2019-10-25T07:58:45.851906Z"
    }
   },
   "outputs": [],
   "source": [
    "perc90_cutoff = adata.X.shape[1]*9//10\n",
    "train_x = adata.X[:perc90_cutoff, :]\n",
    "test_x = adata.X[perc90_cutoff:, :]"
   ]
  },
  {
   "cell_type": "code",
   "execution_count": 5,
   "metadata": {
    "ExecuteTime": {
     "end_time": "2019-10-25T07:58:45.860596Z",
     "start_time": "2019-10-25T07:58:45.857918Z"
    }
   },
   "outputs": [],
   "source": [
    "del(adata)"
   ]
  },
  {
   "cell_type": "code",
   "execution_count": 6,
   "metadata": {
    "ExecuteTime": {
     "end_time": "2019-10-25T07:58:45.944949Z",
     "start_time": "2019-10-25T07:58:45.862737Z"
    }
   },
   "outputs": [
    {
     "name": "stdout",
     "output_type": "stream",
     "text": [
      "(11536, 12818)\n",
      "(921, 12818)\n"
     ]
    }
   ],
   "source": [
    "print(train_x.shape)\n",
    "print(test_x.shape)"
   ]
  },
  {
   "cell_type": "code",
   "execution_count": 21,
   "metadata": {
    "ExecuteTime": {
     "end_time": "2019-10-25T08:10:24.543301Z",
     "start_time": "2019-10-25T08:08:56.423602Z"
    }
   },
   "outputs": [
    {
     "name": "stdout",
     "output_type": "stream",
     "text": [
      "Train on 11536 samples, validate on 921 samples\n",
      "Epoch 1/3\n",
      "11536/11536 [==============================] - 26s 2ms/step - loss: 0.1388 - val_loss: 0.1035\n",
      "Epoch 2/3\n",
      "11536/11536 [==============================] - 26s 2ms/step - loss: 0.1024 - val_loss: 0.1026\n",
      "Epoch 3/3\n",
      "11536/11536 [==============================] - 27s 2ms/step - loss: 0.1015 - val_loss: 0.1019\n",
      "(11536, 15)\n"
     ]
    }
   ],
   "source": [
    "autoencoder = Sequential()\n",
    "autoencoder.add(Dense(2048,  activation='elu', input_shape=(train_x.shape[1],)))\n",
    "autoencoder.add(Dropout(0.25))\n",
    "autoencoder.add(Dense(512,  activation='relu'))\n",
    "autoencoder.add(Dropout(0.25))\n",
    "autoencoder.add(Dense(256,    activation='sigmoid'))\n",
    "autoencoder.add(Dense(15,    activation='linear', name=\"bottleneck\"))\n",
    "autoencoder.add(Dense(256,    activation='sigmoid'))\n",
    "autoencoder.add(Dropout(0.25))\n",
    "autoencoder.add(Dense(512,  activation='relu'))\n",
    "autoencoder.add(Dropout(0.25))\n",
    "autoencoder.add(Dense(2048,  activation='elu'))\n",
    "autoencoder.add(Dense(train_x.shape[1],  activation='sigmoid'))\n",
    "autoencoder.compile(loss='mean_squared_error', optimizer = Adam())\n",
    "trained_model = autoencoder.fit(train_x, train_x, \n",
    "                                batch_size=1024, \n",
    "                                epochs=3, \n",
    "                                verbose=1, \n",
    "                                validation_data=(test_x, test_x))\n",
    "encoder = Model(autoencoder.input, autoencoder.get_layer('bottleneck').output)\n",
    "encoded_data = encoder.predict(train_x)\n",
    "print(encoded_data.shape)"
   ]
  },
  {
   "cell_type": "code",
   "execution_count": 23,
   "metadata": {
    "ExecuteTime": {
     "end_time": "2019-10-25T08:10:24.987893Z",
     "start_time": "2019-10-25T08:10:24.667500Z"
    }
   },
   "outputs": [
    {
     "data": {
      "text/plain": [
       "<matplotlib.legend.Legend at 0x13c947590>"
      ]
     },
     "execution_count": 23,
     "metadata": {},
     "output_type": "execute_result"
    },
    {
     "data": {
      "image/png": "[encoded data removed]",
      "text/plain": [
       "<Figure size 432x288 with 1 Axes>"
      ]
     },
     "metadata": {
      "needs_background": "light"
     },
     "output_type": "display_data"
    }
   ],
   "source": [
    "import matplotlib.pyplot as plt\n",
    "history_dict = trained_model.history\n",
    "plt.figure()\n",
    "plt.plot(history_dict['loss'])\n",
    "plt.plot(history_dict['val_loss'])\n",
    "plt.subplots_adjust(top=0.7)\n",
    "plt.title('Model loss')\n",
    "plt.ylabel('Accuracy')\n",
    "plt.xlabel('Epoch')\n",
    "plt.legend(['Train', 'Test'], loc='upper left')"
   ]
  },
  {
   "cell_type": "code",
   "execution_count": 24,
   "metadata": {
    "ExecuteTime": {
     "end_time": "2019-10-25T08:12:51.315028Z",
     "start_time": "2019-10-25T08:12:44.390922Z"
    }
   },
   "outputs": [
    {
     "name": "stdout",
     "output_type": "stream",
     "text": [
      "(12457, 15)\n"
     ]
    }
   ],
   "source": [
    "encoded_data = encoder.predict(np.vstack((train_x, test_x)))  # bottleneck representation\n",
    "print(encoded_data.shape)"
   ]
  },
  {
   "cell_type": "code",
   "execution_count": 25,
   "metadata": {
    "ExecuteTime": {
     "end_time": "2019-10-25T08:12:51.359372Z",
     "start_time": "2019-10-25T08:12:51.354220Z"
    }
   },
   "outputs": [],
   "source": [
    "with open(data_loc + 'autoencoder_Luecken_15.pickle', 'wb') as handle:\n",
    "    pickle.dump(encoded_data, handle)"
   ]
  },
  {
   "cell_type": "code",
   "execution_count": null,
   "metadata": {},
   "outputs": [],
   "source": []
  }
 ],
 "metadata": {
  "kernelspec": {
   "display_name": "Python 3",
   "language": "python",
   "name": "python3"
  },
  "language_info": {
   "codemirror_mode": {
    "name": "ipython",
    "version": 3
   },
   "file_extension": ".py",
   "mimetype": "text/x-python",
   "name": "python",
   "nbconvert_exporter": "python",
   "pygments_lexer": "ipython3",
   "version": "3.7.4"
  },
  "varInspector": {
   "cols": {
    "lenName": 16,
    "lenType": 16,
    "lenVar": "100"
   },
   "kernels_config": {
    "python": {
     "delete_cmd_postfix": "",
     "delete_cmd_prefix": "del ",
     "library": "var_list.py",
     "varRefreshCmd": "print(var_dic_list())"
    },
    "r": {
     "delete_cmd_postfix": ") ",
     "delete_cmd_prefix": "rm(",
     "library": "var_list.r",
     "varRefreshCmd": "cat(var_dic_list()) "
    }
   },
   "types_to_exclude": [
    "module",
    "function",
    "builtin_function_or_method",
    "instance",
    "_Feature"
   ],
   "window_display": false
  }
 },
 "nbformat": 4,
 "nbformat_minor": 2
}
