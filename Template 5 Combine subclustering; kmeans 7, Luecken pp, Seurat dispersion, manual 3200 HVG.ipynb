{
 "cells": [
  {
   "cell_type": "code",
   "execution_count": 1,
   "metadata": {
    "ExecuteTime": {
     "end_time": "2019-10-26T23:54:29.436276Z",
     "start_time": "2019-10-26T23:54:17.389958Z"
    },
    "scrolled": false
   },
   "outputs": [
    {
     "data": {
      "text/plain": [
       "array(['kohonen', 'MAST', 'plyr', 'clusterExperiment', 'gam', 'foreach',\n",
       "       'monocle', 'DDRTree', 'irlba', 'VGAM', 'splines', 'ggplot2',\n",
       "       'Matrix', 'slingshot', 'princurve', 'RColorBrewer', 'scran',\n",
       "       'SingleCellExperiment', 'SummarizedExperiment', 'DelayedArray',\n",
       "       'matrixStats', 'Biobase', 'GenomicRanges', 'GenomeInfoDb',\n",
       "       'IRanges', 'S4Vectors', 'BiocGenerics', 'parallel', 'stats4',\n",
       "       'BiocParallel', 'clValid', 'cluster', 'tools', 'stats', 'graphics',\n",
       "       'grDevices', 'utils', 'datasets', 'methods', 'base'], dtype='<U20')"
      ]
     },
     "execution_count": 1,
     "metadata": {},
     "output_type": "execute_result"
    }
   ],
   "source": [
    "import numpy as np\n",
    "import pandas as pd\n",
    "import seaborn as sb\n",
    "from sys import getsizeof\n",
    "from math import log\n",
    "import time\n",
    "from statistics import mean, stdev\n",
    "from scipy.stats import norm\n",
    "import pickle\n",
    "from sklearn.metrics import adjusted_rand_score, normalized_mutual_info_score\n",
    "import logging\n",
    "from IPython.display import display\n",
    "import os\n",
    "import time\n",
    "start = time.time()\n",
    "import warnings\n",
    "\n",
    "warnings.simplefilter(action='ignore', category=(FutureWarning, DeprecationWarning))\n"
   ]
  },
  {
   "cell_type": "markdown",
   "metadata": {},
   "source": [
    "#### To find indices of individual clusters"
   ]
  },
  {
   "cell_type": "code",
   "execution_count": 2,
   "metadata": {
    "ExecuteTime": {
     "end_time": "2019-10-26T23:54:29.441576Z",
     "start_time": "2019-10-26T23:54:29.438596Z"
    }
   },
   "outputs": [],
   "source": [
    "data_loc = '/Users/pk/Data/' \n",
    "hvg_bool_filename = \"bool_Luecken_pp_Seurat_hvg_manual_3200_obs_2000\"               \n",
    "cl_alg = \"kmeans\" # which algorithm to sub-cluster\n",
    "num_cl = 7 # which number of clusters to sub-cluster"
   ]
  },
  {
   "cell_type": "markdown",
   "metadata": {},
   "source": [
    "#### Load list of lists of cluster labels"
   ]
  },
  {
   "cell_type": "code",
   "execution_count": 3,
   "metadata": {
    "ExecuteTime": {
     "end_time": "2019-10-26T23:54:29.453026Z",
     "start_time": "2019-10-26T23:54:29.444060Z"
    }
   },
   "outputs": [],
   "source": [
    "df_datafile = data_loc + 'Cluster_labels_df_' + hvg_bool_filename\n",
    "with open(df_datafile + '.pickle', 'rb') as handle:\n",
    "    df_labels = pickle.load(handle)"
   ]
  },
  {
   "cell_type": "markdown",
   "metadata": {},
   "source": [
    "#### Extract cluster labels for target cluster"
   ]
  },
  {
   "cell_type": "code",
   "execution_count": 4,
   "metadata": {
    "ExecuteTime": {
     "end_time": "2019-10-26T23:54:29.474409Z",
     "start_time": "2019-10-26T23:54:29.454985Z"
    }
   },
   "outputs": [
    {
     "data": {
      "text/html": [
       "<div>\n",
       "<style scoped>\n",
       "    .dataframe tbody tr th:only-of-type {\n",
       "        vertical-align: middle;\n",
       "    }\n",
       "\n",
       "    .dataframe tbody tr th {\n",
       "        vertical-align: top;\n",
       "    }\n",
       "\n",
       "    .dataframe thead th {\n",
       "        text-align: right;\n",
       "    }\n",
       "</style>\n",
       "<table border=\"1\" class=\"dataframe\">\n",
       "  <thead>\n",
       "    <tr style=\"text-align: right;\">\n",
       "      <th></th>\n",
       "      <th>cl_method</th>\n",
       "      <th>num_clusters</th>\n",
       "      <th>0</th>\n",
       "      <th>1</th>\n",
       "      <th>2</th>\n",
       "      <th>3</th>\n",
       "      <th>4</th>\n",
       "      <th>5</th>\n",
       "      <th>6</th>\n",
       "      <th>7</th>\n",
       "      <th>...</th>\n",
       "      <th>1990</th>\n",
       "      <th>1991</th>\n",
       "      <th>1992</th>\n",
       "      <th>1993</th>\n",
       "      <th>1994</th>\n",
       "      <th>1995</th>\n",
       "      <th>1996</th>\n",
       "      <th>1997</th>\n",
       "      <th>1998</th>\n",
       "      <th>1999</th>\n",
       "    </tr>\n",
       "  </thead>\n",
       "  <tbody>\n",
       "    <tr>\n",
       "      <th>4</th>\n",
       "      <td>kmeans</td>\n",
       "      <td>7</td>\n",
       "      <td>1</td>\n",
       "      <td>7</td>\n",
       "      <td>7</td>\n",
       "      <td>1</td>\n",
       "      <td>7</td>\n",
       "      <td>4</td>\n",
       "      <td>6</td>\n",
       "      <td>1</td>\n",
       "      <td>...</td>\n",
       "      <td>1</td>\n",
       "      <td>4</td>\n",
       "      <td>4</td>\n",
       "      <td>7</td>\n",
       "      <td>7</td>\n",
       "      <td>6</td>\n",
       "      <td>4</td>\n",
       "      <td>2</td>\n",
       "      <td>1</td>\n",
       "      <td>7</td>\n",
       "    </tr>\n",
       "  </tbody>\n",
       "</table>\n",
       "<p>1 rows × 2002 columns</p>\n",
       "</div>"
      ],
      "text/plain": [
       "  cl_method  num_clusters  0  1  2  3  4  5  6  7  ...   1990  1991  1992  \\\n",
       "4    kmeans             7  1  7  7  1  7  4  6  1  ...      1     4     4   \n",
       "\n",
       "   1993  1994  1995  1996  1997  1998  1999  \n",
       "4     7     7     6     4     2     1     7  \n",
       "\n",
       "[1 rows x 2002 columns]"
      ]
     },
     "execution_count": 4,
     "metadata": {},
     "output_type": "execute_result"
    }
   ],
   "source": [
    "df_labels[(df_labels['cl_method'] == cl_alg) & (df_labels['num_clusters'] == num_cl)]"
   ]
  },
  {
   "cell_type": "markdown",
   "metadata": {},
   "source": [
    "#### Remove relevant row of labels from top level clustering"
   ]
  },
  {
   "cell_type": "code",
   "execution_count": 5,
   "metadata": {
    "ExecuteTime": {
     "end_time": "2019-10-26T23:54:29.480671Z",
     "start_time": "2019-10-26T23:54:29.476318Z"
    }
   },
   "outputs": [],
   "source": [
    "km7_cl_labels = np.array(df_labels.iloc[4, :])\n",
    "km7_cl_labels = km7_cl_labels[2:]"
   ]
  },
  {
   "cell_type": "markdown",
   "metadata": {},
   "source": [
    "#### partition holds indices of the observations in each cluster label"
   ]
  },
  {
   "cell_type": "code",
   "execution_count": 6,
   "metadata": {
    "ExecuteTime": {
     "end_time": "2019-10-26T23:54:29.489581Z",
     "start_time": "2019-10-26T23:54:29.483680Z"
    }
   },
   "outputs": [],
   "source": [
    "partitions = []\n",
    "for cluster in range(1, 8):\n",
    "    partitions.append(np.where(km7_cl_labels == cluster)[0])"
   ]
  },
  {
   "cell_type": "markdown",
   "metadata": {},
   "source": [
    "#### combine the labels from each sub-clustering partition"
   ]
  },
  {
   "cell_type": "code",
   "execution_count": 10,
   "metadata": {
    "ExecuteTime": {
     "end_time": "2019-10-26T23:55:48.770431Z",
     "start_time": "2019-10-26T23:55:48.735115Z"
    }
   },
   "outputs": [],
   "source": [
    "total_cl = np.zeros(shape=(2000)) # the full set of labels for twice clustered data\n",
    "for i in range(7):\n",
    "    # for each partition\n",
    "    source_filename = data_loc + \"Cluster_labels_df_bool_Luecken_pp_Seurat_hvg_manual_3200_numEigens_13_obs_2000_partition_\" + str(i+1) \n",
    "    with open(source_filename + '.pickle', 'rb') as handle:\n",
    "        temp_lowlevel_df = pickle.load(handle)\n",
    "    # extract labels from this partition\n",
    "    temp_lowlevel_cl_labels = np.array(temp_lowlevel_df.iloc[0, 2:len(partitions[i]) + 2])\n",
    "    # add a number to the labels so they're not duplicated by each partition\n",
    "    for j in range(len(partitions[i])):\n",
    "        total_cl[partitions[i][j]] = temp_lowlevel_cl_labels[j] + i*2 # because each partition contains two subclusters\n"
   ]
  },
  {
   "cell_type": "code",
   "execution_count": 12,
   "metadata": {
    "ExecuteTime": {
     "end_time": "2019-10-26T23:55:59.508900Z",
     "start_time": "2019-10-26T23:55:59.499537Z"
    }
   },
   "outputs": [],
   "source": [
    "louvain_filenames = [\"louvain_r05_labels_Luecken\", \"louvain_r1_labels_Luecken\"]\n",
    "louvain_desc = [\"Louvain Luecken r0.5\", \"Louvain Luecken r1\"]\n",
    "louvain_labels = []\n",
    "for name in louvain_filenames:\n",
    "    with open(data_loc + name + '.pickle', 'rb') as handle:\n",
    "        temp = pickle.load(handle)\n",
    "        temp = np.array(temp)\n",
    "        temp = [int(x) +1 for x in temp]\n",
    "        louvain_labels.append(temp)"
   ]
  },
  {
   "cell_type": "markdown",
   "metadata": {},
   "source": [
    "#### Compare the labels generated by the once and twice clustered data"
   ]
  },
  {
   "cell_type": "code",
   "execution_count": 21,
   "metadata": {
    "ExecuteTime": {
     "end_time": "2019-10-26T23:59:20.185677Z",
     "start_time": "2019-10-26T23:59:20.166814Z"
    }
   },
   "outputs": [
    {
     "name": "stdout",
     "output_type": "stream",
     "text": [
      "The once- (7 clusters) and twice- (44.0 clusters) clustered data\n",
      "~~~~~~~~~~~~~~~~~~~~~~~~~~~~~~~~~~~~~~~~~~~~~~~~~~\n",
      "\tAdjusted Rand  0.791\n",
      "\tNormalized Mutual Information  0.866\n"
     ]
    }
   ],
   "source": [
    "ars = adjusted_rand_score(total_cl, km7_cl_labels)\n",
    "nmi = normalized_mutual_info_score(total_cl, km7_cl_labels)\n",
    "\n",
    "print(\"The once- ({} clusters) and twice- ({} clusters) clustered data\".format(max(km7_cl_labels), max(total_cl)))\n",
    "print(\"~~~~~~~~~~~~~~~~~~~~~~~~~~~~~~~~~~~~~~~~~~~~~~~~~~\")\n",
    "\n",
    "print(\"\\tAdjusted Rand \", round(ars, 3))\n",
    "print(\"\\tNormalized Mutual Information \", round(nmi, 3))\n"
   ]
  },
  {
   "cell_type": "markdown",
   "metadata": {},
   "source": [
    "#### Comparing the Louvain cluster labels from those of the sub-clustering"
   ]
  },
  {
   "cell_type": "code",
   "execution_count": 14,
   "metadata": {
    "ExecuteTime": {
     "end_time": "2019-10-26T23:56:04.914383Z",
     "start_time": "2019-10-26T23:56:04.883124Z"
    }
   },
   "outputs": [
    {
     "name": "stdout",
     "output_type": "stream",
     "text": [
      "\n",
      "\n",
      "\n",
      "Louvain Luecken r0.5 contains 10 different clusters\n",
      "~~~~~~~~~~~~~~~~~~~~~~~~~~~~~~~~~~~~~~~~~~~~~~~~~~\n",
      "With respect to the sub-clustered data it has:\n",
      "\tAdjusted Rand  0.237\n",
      "\tNormalized Mutual Information  0.465\n",
      "\n",
      "With respect to the once-clustered data it has:\n",
      "\tAdjusted Rand  0.195\n",
      "\tNormalized Mutual Information  0.403\n",
      "\n",
      "\n",
      "\n",
      "Louvain Luecken r1 contains 16 different clusters\n",
      "~~~~~~~~~~~~~~~~~~~~~~~~~~~~~~~~~~~~~~~~~~~~~~~~~~\n",
      "With respect to the sub-clustered data it has:\n",
      "\tAdjusted Rand  0.189\n",
      "\tNormalized Mutual Information  0.48\n",
      "\n",
      "With respect to the once-clustered data it has:\n",
      "\tAdjusted Rand  0.154\n",
      "\tNormalized Mutual Information  0.421\n"
     ]
    }
   ],
   "source": [
    "for i in range(2):\n",
    "    ars = adjusted_rand_score(total_cl, louvain_labels[i])\n",
    "    nmi = normalized_mutual_info_score(total_cl, louvain_labels[i])\n",
    "    \n",
    "    ars2 = adjusted_rand_score(km7_cl_labels, louvain_labels[i])\n",
    "    nmi2 = normalized_mutual_info_score(km7_cl_labels, louvain_labels[i])\n",
    "\n",
    "    print(\"\\n\\n\\n{} contains {} different clusters\".format(louvain_desc[i], max(louvain_labels[i])))\n",
    "    print(\"~~~~~~~~~~~~~~~~~~~~~~~~~~~~~~~~~~~~~~~~~~~~~~~~~~\")\n",
    "    print(\"With respect to the sub-clustered data it has:\")\n",
    "    print(\"\\tAdjusted Rand \", round(ars, 3))\n",
    "    print(\"\\tNormalized Mutual Information \", round(nmi, 3))\n",
    "    print(\"\\nWith respect to the once-clustered data it has:\")\n",
    "    print(\"\\tAdjusted Rand \", round(ars2, 3))\n",
    "    print(\"\\tNormalized Mutual Information \", round(nmi2, 3))\n"
   ]
  },
  {
   "cell_type": "markdown",
   "metadata": {},
   "source": [
    "#### Comparing the Louvain outputs with each other\n",
    "Luecken and Seurat pre-processing, resolutions of 0.5 and 1"
   ]
  },
  {
   "cell_type": "code",
   "execution_count": 15,
   "metadata": {
    "ExecuteTime": {
     "end_time": "2019-10-26T23:56:08.589385Z",
     "start_time": "2019-10-26T23:56:08.579153Z"
    }
   },
   "outputs": [
    {
     "name": "stdout",
     "output_type": "stream",
     "text": [
      "\n",
      "\n",
      "\n",
      "Louvain Luecken r0.5 contains 10 different clusters\n",
      "Louvain Luecken r1 contains 16 different clusters\n",
      "\tAdjusted Rand  0.392\n",
      "\tNormalized Mutual Information  0.643\n"
     ]
    }
   ],
   "source": [
    "ars = adjusted_rand_score(louvain_labels[0], louvain_labels[1])\n",
    "nmi = normalized_mutual_info_score(louvain_labels[0], louvain_labels[1])\n",
    "\n",
    "print(\"\\n\\n\\n{} contains {} different clusters\".format(louvain_desc[0], max(louvain_labels[0])))\n",
    "print(\"{} contains {} different clusters\".format(louvain_desc[1], max(louvain_labels[1])))\n",
    "print(\"\\tAdjusted Rand \", round(ars, 3))\n",
    "print(\"\\tNormalized Mutual Information \", round(nmi, 3))\n"
   ]
  },
  {
   "cell_type": "code",
   "execution_count": null,
   "metadata": {},
   "outputs": [],
   "source": []
  }
 ],
 "metadata": {
  "kernelspec": {
   "display_name": "Python 3",
   "language": "python",
   "name": "python3"
  },
  "language_info": {
   "codemirror_mode": {
    "name": "ipython",
    "version": 3
   },
   "file_extension": ".py",
   "mimetype": "text/x-python",
   "name": "python",
   "nbconvert_exporter": "python",
   "pygments_lexer": "ipython3",
   "version": "3.7.4"
  },
  "varInspector": {
   "cols": {
    "lenName": 16,
    "lenType": 16,
    "lenVar": "100"
   },
   "kernels_config": {
    "python": {
     "delete_cmd_postfix": "",
     "delete_cmd_prefix": "del ",
     "library": "var_list.py",
     "varRefreshCmd": "print(var_dic_list())"
    },
    "r": {
     "delete_cmd_postfix": ") ",
     "delete_cmd_prefix": "rm(",
     "library": "var_list.r",
     "varRefreshCmd": "cat(var_dic_list()) "
    }
   },
   "position": {
    "height": "805px",
    "left": "277px",
    "right": "20px",
    "top": "5px",
    "width": "800px"
   },
   "types_to_exclude": [
    "module",
    "function",
    "builtin_function_or_method",
    "instance",
    "_Feature"
   ],
   "window_display": false
  }
 },
 "nbformat": 4,
 "nbformat_minor": 2
}
